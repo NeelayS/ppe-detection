{
 "nbformat": 4,
 "nbformat_minor": 0,
 "metadata": {
  "colab": {
   "name": "processing_jsl.ipynb",
   "provenance": [],
   "collapsed_sections": [],
   "include_colab_link": true
  },
  "kernelspec": {
   "name": "python3",
   "display_name": "Python 3"
  },
  "language_info": {
   "name": "python"
  },
  "accelerator": "GPU"
 },
 "cells": [
  {
   "cell_type": "markdown",
   "metadata": {
    "id": "view-in-github",
    "colab_type": "text"
   },
   "source": [
    "<a href=\"https://colab.research.google.com/github/NeelayS/ppe-detection/blob/main/processing_jsl.ipynb\" target=\"_parent\"><img src=\"https://colab.research.google.com/assets/colab-badge.svg\" alt=\"Open In Colab\"/></a>"
   ]
  },
  {
   "cell_type": "code",
   "execution_count": null,
   "metadata": {
    "colab": {
     "base_uri": "https://localhost:8080/"
    },
    "id": "yW8xlOf2sckM",
    "outputId": "ad4b36df-5141-4822-d0b4-199d06f6b8ab"
   },
   "outputs": [
    {
     "output_type": "stream",
     "name": "stdout",
     "text": [
      "/content/drive/MyDrive/projects/frinks/data/ppe\n"
     ]
    }
   ],
   "source": [
    "%cd /content/drive/MyDrive/projects/frinks/data/ppe"
   ]
  },
  {
   "cell_type": "markdown",
   "source": [
    "# Imports"
   ],
   "metadata": {
    "id": "iW-rXoYAYcFe"
   }
  },
  {
   "cell_type": "code",
   "source": [
    "import torch\n",
    "from torch import nn\n",
    "from torch.utils.data import Dataset, DataLoader\n",
    "from torchvision import transforms, io\n",
    "from os.path import join\n",
    "import matplotlib.pyplot as plt"
   ],
   "metadata": {
    "id": "mbjV4MLr4_S0"
   },
   "execution_count": null,
   "outputs": []
  },
  {
   "cell_type": "markdown",
   "source": [
    "# Data"
   ],
   "metadata": {
    "id": "rx7aV7ZvYg1h"
   }
  },
  {
   "cell_type": "code",
   "source": [
    "class JSLDataset(Dataset):\n",
    "    def __init__(self, img_dir, annotations_list):\n",
    "        super().__init__()\n",
    "\n",
    "        self.img_dir = img_dir\n",
    "\n",
    "        with open(annotations_list, \"r\") as f:\n",
    "            self.annotations = sorted(f.readlines())\n",
    "        f.close()\n",
    "\n",
    "    def __len__(self):\n",
    "        return len(self.annotations)\n",
    "\n",
    "    def __getitem__(self, idx):\n",
    "\n",
    "        annotation = str(self.annotations[idx])[:-1].split(\"\\t\")\n",
    "\n",
    "        img_name = annotation[0]\n",
    "        img = io.read_image(join(self.img_dir, img_name))\n",
    "\n",
    "        cropped_detections = []\n",
    "        labels = []\n",
    "\n",
    "        for det_annotation in annotation[1:]:\n",
    "\n",
    "            det_annotation = det_annotation.split(\",\")[1:]\n",
    "            det_annotation = [int(e) for e in det_annotation]\n",
    "\n",
    "            label = det_annotation[-3:]\n",
    "            labels.append(label)\n",
    "\n",
    "            x1, y1, x2, y2 = det_annotation[:-3]\n",
    "            cropped_detection = img[:, y1:y2, x1:x2].float()\n",
    "            cropped_detections.append(cropped_detection)\n",
    "\n",
    "        return cropped_detections, labels"
   ],
   "metadata": {
    "id": "oYH7JSfr5Fyg"
   },
   "execution_count": null,
   "outputs": []
  },
  {
   "cell_type": "code",
   "source": [
    "dataset = JSLDataset(\"images\", \"annotations_50.txt\")"
   ],
   "metadata": {
    "id": "JKsf3Gbx9WId"
   },
   "execution_count": null,
   "outputs": []
  },
  {
   "cell_type": "code",
   "source": [
    "dataloader = DataLoader(dataset, batch_size=1, shuffle=False)"
   ],
   "metadata": {
    "id": "lgb39SV_9jMG"
   },
   "execution_count": null,
   "outputs": []
  },
  {
   "cell_type": "code",
   "source": [
    "for data, label in dataloader:\n",
    "    pass"
   ],
   "metadata": {
    "id": "1xMxW7TuiTBO"
   },
   "execution_count": null,
   "outputs": []
  },
  {
   "cell_type": "code",
   "source": [
    "sample = next(iter(dataloader))\n",
    "type(sample), len(sample)"
   ],
   "metadata": {
    "colab": {
     "base_uri": "https://localhost:8080/"
    },
    "id": "sSxxCqiAfNdU",
    "outputId": "6ed1612c-01c9-48b5-da16-90a7d7870406"
   },
   "execution_count": null,
   "outputs": [
    {
     "output_type": "execute_result",
     "data": {
      "text/plain": [
       "(list, 2)"
      ]
     },
     "metadata": {},
     "execution_count": 60
    }
   ]
  },
  {
   "cell_type": "code",
   "source": [
    "sample[1]"
   ],
   "metadata": {
    "colab": {
     "base_uri": "https://localhost:8080/"
    },
    "id": "zDEx4WKLWf63",
    "outputId": "0746984c-1f85-4da5-b8b5-556af48b29b0"
   },
   "execution_count": null,
   "outputs": [
    {
     "output_type": "execute_result",
     "data": {
      "text/plain": [
       "[[tensor([1]), tensor([1]), tensor([-1])],\n",
       " [tensor([0]), tensor([1]), tensor([1])],\n",
       " [tensor([0]), tensor([1]), tensor([1])],\n",
       " [tensor([1]), tensor([1]), tensor([1])],\n",
       " [tensor([1]), tensor([1]), tensor([1])],\n",
       " [tensor([0]), tensor([0]), tensor([-1])],\n",
       " [tensor([1]), tensor([0]), tensor([1])],\n",
       " [tensor([1]), tensor([1]), tensor([-1])],\n",
       " [tensor([1]), tensor([1]), tensor([-1])],\n",
       " [tensor([0]), tensor([0]), tensor([1])],\n",
       " [tensor([1]), tensor([1]), tensor([-1])]]"
      ]
     },
     "metadata": {},
     "execution_count": 61
    }
   ]
  },
  {
   "cell_type": "code",
   "source": [
    "sample[0][0].shape"
   ],
   "metadata": {
    "colab": {
     "base_uri": "https://localhost:8080/"
    },
    "id": "eEjOADp-Wznc",
    "outputId": "e5f209ce-8c1a-4762-8527-428d690aa983"
   },
   "execution_count": null,
   "outputs": [
    {
     "output_type": "execute_result",
     "data": {
      "text/plain": [
       "torch.Size([1, 3, 894, 438])"
      ]
     },
     "metadata": {},
     "execution_count": 62
    }
   ]
  },
  {
   "cell_type": "code",
   "source": [
    "crop = sample[0][0].squeeze(0).permute(1, 2, 0).long().numpy()\n",
    "crop_label = sample[1][0]\n",
    "plt.imshow(crop)\n",
    "print(f\"Label: {crop_label}\")"
   ],
   "metadata": {
    "colab": {
     "base_uri": "https://localhost:8080/",
     "height": 286
    },
    "id": "Uo9gjvSbaRrB",
    "outputId": "0f9eb994-b8bc-406e-8294-a50b01eb7db8"
   },
   "execution_count": null,
   "outputs": [
    {
     "output_type": "stream",
     "name": "stdout",
     "text": [
      "Label: [tensor([1]), tensor([1]), tensor([-1])]\n"
     ]
    },
    {
     "output_type": "display_data",
     "data": {
      "text/plain": [
       "<Figure size 432x288 with 1 Axes>"
      ],
      "image/png": "[encoded data removed]"
     },
     "metadata": {
      "needs_background": "light"
     }
    }
   ]
  },
  {
   "cell_type": "markdown",
   "source": [
    "# Model Definition"
   ],
   "metadata": {
    "id": "4Tj6izByb5bS"
   }
  },
  {
   "cell_type": "code",
   "source": [
    "!pip install pytorchyolo"
   ],
   "metadata": {
    "colab": {
     "base_uri": "https://localhost:8080/",
     "height": 1000
    },
    "id": "lbzXVTFEcA6Q",
    "outputId": "388cccf4-4603-4d00-f707-ddfd4180828f"
   },
   "execution_count": null,
   "outputs": [
    {
     "output_type": "stream",
     "name": "stdout",
     "text": [
      "Collecting pytorchyolo\n",
      "  Downloading PyTorchYolo-1.6.2-py3-none-any.whl (42 kB)\n",
      "\u001b[?25l\r\u001b[K     |███████▊                        | 10 kB 22.0 MB/s eta 0:00:01\r\u001b[K     |███████████████▌                | 20 kB 26.0 MB/s eta 0:00:01\r\u001b[K     |███████████████████████▏        | 30 kB 11.5 MB/s eta 0:00:01\r\u001b[K     |███████████████████████████████ | 40 kB 4.6 MB/s eta 0:00:01\r\u001b[K     |████████████████████████████████| 42 kB 908 kB/s \n",
      "\u001b[?25hCollecting imgaug<0.5.0,>=0.4.0\n",
      "  Downloading imgaug-0.4.0-py2.py3-none-any.whl (948 kB)\n",
      "\u001b[K     |████████████████████████████████| 948 kB 9.2 MB/s \n",
      "\u001b[?25hRequirement already satisfied: numpy<2.0.0,>=1.19.5 in /usr/local/lib/python3.7/dist-packages (from pytorchyolo) (1.21.6)\n",
      "Requirement already satisfied: tqdm<5.0.0,>=4.55.1 in /usr/local/lib/python3.7/dist-packages (from pytorchyolo) (4.64.0)\n",
      "Collecting matplotlib<4.0.0,>=3.3.3\n",
      "  Downloading matplotlib-3.5.1-cp37-cp37m-manylinux_2_5_x86_64.manylinux1_x86_64.whl (11.2 MB)\n",
      "\u001b[K     |████████████████████████████████| 11.2 MB 28.3 MB/s \n",
      "\u001b[?25hCollecting Pillow<9.0.0,>=8.1.0\n",
      "  Downloading Pillow-8.4.0-cp37-cp37m-manylinux_2_17_x86_64.manylinux2014_x86_64.whl (3.1 MB)\n",
      "\u001b[K     |████████████████████████████████| 3.1 MB 26.7 MB/s \n",
      "\u001b[?25hRequirement already satisfied: torch>=1.8.1 in /usr/local/lib/python3.7/dist-packages (from pytorchyolo) (1.11.0+cu113)\n",
      "Collecting terminaltables<4.0.0,>=3.1.0\n",
      "  Downloading terminaltables-3.1.10-py2.py3-none-any.whl (15 kB)\n",
      "Requirement already satisfied: torchvision>=0.8.2 in /usr/local/lib/python3.7/dist-packages (from pytorchyolo) (0.12.0+cu113)\n",
      "Requirement already satisfied: tensorboard<3.0.0,>=2.4.0 in /usr/local/lib/python3.7/dist-packages (from pytorchyolo) (2.8.0)\n",
      "Requirement already satisfied: torchsummary<2.0.0,>=1.5.1 in /usr/local/lib/python3.7/dist-packages (from pytorchyolo) (1.5.1)\n",
      "Requirement already satisfied: scikit-image>=0.14.2 in /usr/local/lib/python3.7/dist-packages (from imgaug<0.5.0,>=0.4.0->pytorchyolo) (0.18.3)\n",
      "Requirement already satisfied: opencv-python in /usr/local/lib/python3.7/dist-packages (from imgaug<0.5.0,>=0.4.0->pytorchyolo) (4.1.2.30)\n",
      "Requirement already satisfied: six in /usr/local/lib/python3.7/dist-packages (from imgaug<0.5.0,>=0.4.0->pytorchyolo) (1.15.0)\n",
      "Requirement already satisfied: imageio in /usr/local/lib/python3.7/dist-packages (from imgaug<0.5.0,>=0.4.0->pytorchyolo) (2.4.1)\n",
      "Requirement already satisfied: Shapely in /usr/local/lib/python3.7/dist-packages (from imgaug<0.5.0,>=0.4.0->pytorchyolo) (1.8.1.post1)\n",
      "Requirement already satisfied: scipy in /usr/local/lib/python3.7/dist-packages (from imgaug<0.5.0,>=0.4.0->pytorchyolo) (1.4.1)\n",
      "Requirement already satisfied: kiwisolver>=1.0.1 in /usr/local/lib/python3.7/dist-packages (from matplotlib<4.0.0,>=3.3.3->pytorchyolo) (1.4.2)\n",
      "Requirement already satisfied: packaging>=20.0 in /usr/local/lib/python3.7/dist-packages (from matplotlib<4.0.0,>=3.3.3->pytorchyolo) (21.3)\n",
      "Requirement already satisfied: cycler>=0.10 in /usr/local/lib/python3.7/dist-packages (from matplotlib<4.0.0,>=3.3.3->pytorchyolo) (0.11.0)\n",
      "Requirement already satisfied: python-dateutil>=2.7 in /usr/local/lib/python3.7/dist-packages (from matplotlib<4.0.0,>=3.3.3->pytorchyolo) (2.8.2)\n",
      "Requirement already satisfied: pyparsing>=2.2.1 in /usr/local/lib/python3.7/dist-packages (from matplotlib<4.0.0,>=3.3.3->pytorchyolo) (3.0.8)\n",
      "Collecting fonttools>=4.22.0\n",
      "  Downloading fonttools-4.33.3-py3-none-any.whl (930 kB)\n",
      "\u001b[K     |████████████████████████████████| 930 kB 38.4 MB/s \n",
      "\u001b[?25hRequirement already satisfied: typing-extensions in /usr/local/lib/python3.7/dist-packages (from kiwisolver>=1.0.1->matplotlib<4.0.0,>=3.3.3->pytorchyolo) (4.2.0)\n",
      "Requirement already satisfied: PyWavelets>=1.1.1 in /usr/local/lib/python3.7/dist-packages (from scikit-image>=0.14.2->imgaug<0.5.0,>=0.4.0->pytorchyolo) (1.3.0)\n",
      "Requirement already satisfied: networkx>=2.0 in /usr/local/lib/python3.7/dist-packages (from scikit-image>=0.14.2->imgaug<0.5.0,>=0.4.0->pytorchyolo) (2.6.3)\n",
      "Requirement already satisfied: tifffile>=2019.7.26 in /usr/local/lib/python3.7/dist-packages (from scikit-image>=0.14.2->imgaug<0.5.0,>=0.4.0->pytorchyolo) (2021.11.2)\n",
      "Requirement already satisfied: tensorboard-data-server<0.7.0,>=0.6.0 in /usr/local/lib/python3.7/dist-packages (from tensorboard<3.0.0,>=2.4.0->pytorchyolo) (0.6.1)\n",
      "Requirement already satisfied: markdown>=2.6.8 in /usr/local/lib/python3.7/dist-packages (from tensorboard<3.0.0,>=2.4.0->pytorchyolo) (3.3.6)\n",
      "Requirement already satisfied: google-auth-oauthlib<0.5,>=0.4.1 in /usr/local/lib/python3.7/dist-packages (from tensorboard<3.0.0,>=2.4.0->pytorchyolo) (0.4.6)\n",
      "Requirement already satisfied: werkzeug>=0.11.15 in /usr/local/lib/python3.7/dist-packages (from tensorboard<3.0.0,>=2.4.0->pytorchyolo) (1.0.1)\n",
      "Requirement already satisfied: absl-py>=0.4 in /usr/local/lib/python3.7/dist-packages (from tensorboard<3.0.0,>=2.4.0->pytorchyolo) (1.0.0)\n",
      "Requirement already satisfied: tensorboard-plugin-wit>=1.6.0 in /usr/local/lib/python3.7/dist-packages (from tensorboard<3.0.0,>=2.4.0->pytorchyolo) (1.8.1)\n",
      "Requirement already satisfied: google-auth<3,>=1.6.3 in /usr/local/lib/python3.7/dist-packages (from tensorboard<3.0.0,>=2.4.0->pytorchyolo) (1.35.0)\n",
      "Requirement already satisfied: setuptools>=41.0.0 in /usr/local/lib/python3.7/dist-packages (from tensorboard<3.0.0,>=2.4.0->pytorchyolo) (57.4.0)\n",
      "Requirement already satisfied: protobuf>=3.6.0 in /usr/local/lib/python3.7/dist-packages (from tensorboard<3.0.0,>=2.4.0->pytorchyolo) (3.17.3)\n",
      "Requirement already satisfied: wheel>=0.26 in /usr/local/lib/python3.7/dist-packages (from tensorboard<3.0.0,>=2.4.0->pytorchyolo) (0.37.1)\n",
      "Requirement already satisfied: grpcio>=1.24.3 in /usr/local/lib/python3.7/dist-packages (from tensorboard<3.0.0,>=2.4.0->pytorchyolo) (1.44.0)\n",
      "Requirement already satisfied: requests<3,>=2.21.0 in /usr/local/lib/python3.7/dist-packages (from tensorboard<3.0.0,>=2.4.0->pytorchyolo) (2.23.0)\n",
      "Requirement already satisfied: pyasn1-modules>=0.2.1 in /usr/local/lib/python3.7/dist-packages (from google-auth<3,>=1.6.3->tensorboard<3.0.0,>=2.4.0->pytorchyolo) (0.2.8)\n",
      "Requirement already satisfied: cachetools<5.0,>=2.0.0 in /usr/local/lib/python3.7/dist-packages (from google-auth<3,>=1.6.3->tensorboard<3.0.0,>=2.4.0->pytorchyolo) (4.2.4)\n",
      "Requirement already satisfied: rsa<5,>=3.1.4 in /usr/local/lib/python3.7/dist-packages (from google-auth<3,>=1.6.3->tensorboard<3.0.0,>=2.4.0->pytorchyolo) (4.8)\n",
      "Requirement already satisfied: requests-oauthlib>=0.7.0 in /usr/local/lib/python3.7/dist-packages (from google-auth-oauthlib<0.5,>=0.4.1->tensorboard<3.0.0,>=2.4.0->pytorchyolo) (1.3.1)\n",
      "Requirement already satisfied: importlib-metadata>=4.4 in /usr/local/lib/python3.7/dist-packages (from markdown>=2.6.8->tensorboard<3.0.0,>=2.4.0->pytorchyolo) (4.11.3)\n",
      "Requirement already satisfied: zipp>=0.5 in /usr/local/lib/python3.7/dist-packages (from importlib-metadata>=4.4->markdown>=2.6.8->tensorboard<3.0.0,>=2.4.0->pytorchyolo) (3.8.0)\n",
      "Requirement already satisfied: pyasn1<0.5.0,>=0.4.6 in /usr/local/lib/python3.7/dist-packages (from pyasn1-modules>=0.2.1->google-auth<3,>=1.6.3->tensorboard<3.0.0,>=2.4.0->pytorchyolo) (0.4.8)\n",
      "Requirement already satisfied: urllib3!=1.25.0,!=1.25.1,<1.26,>=1.21.1 in /usr/local/lib/python3.7/dist-packages (from requests<3,>=2.21.0->tensorboard<3.0.0,>=2.4.0->pytorchyolo) (1.24.3)\n",
      "Requirement already satisfied: certifi>=2017.4.17 in /usr/local/lib/python3.7/dist-packages (from requests<3,>=2.21.0->tensorboard<3.0.0,>=2.4.0->pytorchyolo) (2021.10.8)\n",
      "Requirement already satisfied: chardet<4,>=3.0.2 in /usr/local/lib/python3.7/dist-packages (from requests<3,>=2.21.0->tensorboard<3.0.0,>=2.4.0->pytorchyolo) (3.0.4)\n",
      "Requirement already satisfied: idna<3,>=2.5 in /usr/local/lib/python3.7/dist-packages (from requests<3,>=2.21.0->tensorboard<3.0.0,>=2.4.0->pytorchyolo) (2.10)\n",
      "Requirement already satisfied: oauthlib>=3.0.0 in /usr/local/lib/python3.7/dist-packages (from requests-oauthlib>=0.7.0->google-auth-oauthlib<0.5,>=0.4.1->tensorboard<3.0.0,>=2.4.0->pytorchyolo) (3.2.0)\n",
      "Installing collected packages: Pillow, fonttools, matplotlib, terminaltables, imgaug, pytorchyolo\n",
      "  Attempting uninstall: Pillow\n",
      "    Found existing installation: Pillow 7.1.2\n",
      "    Uninstalling Pillow-7.1.2:\n",
      "      Successfully uninstalled Pillow-7.1.2\n",
      "  Attempting uninstall: matplotlib\n",
      "    Found existing installation: matplotlib 3.2.2\n",
      "    Uninstalling matplotlib-3.2.2:\n",
      "      Successfully uninstalled matplotlib-3.2.2\n",
      "  Attempting uninstall: imgaug\n",
      "    Found existing installation: imgaug 0.2.9\n",
      "    Uninstalling imgaug-0.2.9:\n",
      "      Successfully uninstalled imgaug-0.2.9\n",
      "\u001b[31mERROR: pip's dependency resolver does not currently take into account all the packages that are installed. This behaviour is the source of the following dependency conflicts.\n",
      "albumentations 0.1.12 requires imgaug<0.2.7,>=0.2.5, but you have imgaug 0.4.0 which is incompatible.\u001b[0m\n",
      "Successfully installed Pillow-8.4.0 fonttools-4.33.3 imgaug-0.4.0 matplotlib-3.5.1 pytorchyolo-1.6.2 terminaltables-3.1.10\n"
     ]
    },
    {
     "output_type": "display_data",
     "data": {
      "application/vnd.colab-display-data+json": {
       "pip_warning": {
        "packages": [
         "PIL",
         "matplotlib",
         "mpl_toolkits"
        ]
       }
      }
     },
     "metadata": {}
    }
   ]
  },
  {
   "cell_type": "code",
   "source": [
    "import cv2\n",
    "from pytorchyolo import detect, models as yolo_models\n",
    "import torch\n",
    "from torch import nn\n",
    "import torch.nn.functional as F\n",
    "from torchvision import io, models\n",
    "\n",
    "\n",
    "class ClassificationHead(nn.Module):\n",
    "    def __init__(self, features_dim, layers_config=[1024, 512]):\n",
    "        super().__init__()\n",
    "\n",
    "        self.features_dim = features_dim\n",
    "\n",
    "        layers_config = [features_dim] + list(layers_config)\n",
    "\n",
    "        self.head = nn.ModuleList()\n",
    "        for i in range(0, len(layers_config) - 1):\n",
    "            self.head.append(\n",
    "                nn.Sequential(\n",
    "                    nn.Linear(layers_config[i], layers_config[i + 1]),\n",
    "                    nn.ReLU(),\n",
    "                ),\n",
    "            )\n",
    "        self.head.append(nn.Linear(layers_config[-1], 2))\n",
    "        self.head = nn.Sequential(*self.head)\n",
    "\n",
    "    def forward(self, x):\n",
    "\n",
    "        x = torch.flatten(x, 1)\n",
    "\n",
    "        return self.head(x)\n",
    "\n",
    "\n",
    "class YoloV3DetectionModel:\n",
    "    def __init__(self, config_path, weights_path, threshold=0.5):\n",
    "\n",
    "        self.threshold = threshold\n",
    "\n",
    "        self.model = yolo_models.load_model(config_path, weights_path)\n",
    "\n",
    "    def _filter_detections(self, detections):\n",
    "\n",
    "        filtered_detections = []\n",
    "\n",
    "        for detection in detections:\n",
    "\n",
    "            if (\n",
    "                detection[-2] > self.threshold and int(detection[-1]) == 0\n",
    "            ):  # 0 = person class\n",
    "                filtered_detections.append(list(map(lambda x: int(x), detection[:-2])))\n",
    "\n",
    "        return filtered_detections\n",
    "\n",
    "    def __call__(self, img_path):\n",
    "\n",
    "        img = cv2.imread(img_path)\n",
    "        img = cv2.cvtColor(img, cv2.COLOR_BGR2RGB)\n",
    "\n",
    "        detections = detect.detect_image(self.model, img)\n",
    "        detections = self._filter_detections(detections)\n",
    "\n",
    "        print(f\"Detected {len(detections)} persons\")\n",
    "\n",
    "        img = io.read_image(img_path)\n",
    "\n",
    "        cropped_detections = []\n",
    "        for detection in detections:\n",
    "            cropped_detections.append(\n",
    "                img[:, detection[1] : detection[3], detection[0] : detection[2]]\n",
    "                .unsqueeze(0)\n",
    "                .float()\n",
    "            )\n",
    "\n",
    "        return cropped_detections\n",
    "\n",
    "\n",
    "class ClassificationModel(nn.Module):\n",
    "    def __init__(\n",
    "        self, reshape_size, features_dim, layers_config, n_heads, backbone=None\n",
    "    ):\n",
    "        super().__init__()\n",
    "\n",
    "        self.reshape_size = reshape_size\n",
    "\n",
    "        if backbone is None:\n",
    "            self.backbone = models.vgg19(pretrained=False).features\n",
    "        else:\n",
    "            self.backbone = backbone\n",
    "\n",
    "        self.heads = nn.ModuleList()\n",
    "        for _ in range(n_heads):\n",
    "            self.heads.append(\n",
    "                ClassificationHead(\n",
    "                    features_dim=features_dim, layers_config=layers_config\n",
    "                )\n",
    "            )\n",
    "\n",
    "    def forward(self, detections):\n",
    "\n",
    "        outs = []\n",
    "\n",
    "        for detection in detections:\n",
    "\n",
    "            detection = F.interpolate(\n",
    "                detection, self.reshape_size, mode=\"bilinear\", align_corners=True\n",
    "            )\n",
    "            features = self.backbone(detection)\n",
    "\n",
    "            instance_outs = []\n",
    "\n",
    "            for head in self.heads:\n",
    "                out = head(features)\n",
    "                instance_outs.append(out)\n",
    "\n",
    "            outs.append(instance_outs)\n",
    "\n",
    "        return outs\n",
    "\n",
    "\n",
    "class CompleteModel(nn.Module):\n",
    "    def __init__(\n",
    "        self,\n",
    "        detection_threshold,\n",
    "        detection_config,\n",
    "        detection_weights,\n",
    "        detection_reshape_size,\n",
    "        classification_features_dim,\n",
    "        classification_layers_config,\n",
    "        classification_n_heads,\n",
    "        classification_model_weights=None,\n",
    "    ):\n",
    "        super().__init__()\n",
    "\n",
    "        self.detection_model = YoloV3DetectionModel(\n",
    "            config_path=detection_config,\n",
    "            weights_path=detection_weights,\n",
    "            threshold=detection_threshold,\n",
    "        )\n",
    "        self.classification_model = ClassificationModel(\n",
    "            reshape_size=detection_reshape_size,\n",
    "            features_dim=classification_features_dim,\n",
    "            layers_config=classification_layers_config,\n",
    "            n_heads=classification_n_heads,\n",
    "        )\n",
    "\n",
    "        if classification_model_weights is not None:\n",
    "            self.classification_model.load_state_dict(classification_model_weights)\n",
    "\n",
    "    def forward(self, img_path):\n",
    "\n",
    "        detections = self.detection_model(img_path)\n",
    "        img_outs = self.classification_model(detections)\n",
    "\n",
    "        return img_outs\n",
    "\n",
    "\n",
    "# Map outs for a detection uniquely to the detection\n",
    "# Pre-process images\n",
    "# Detection model\n",
    "# Load pre-trained weights"
   ],
   "metadata": {
    "id": "oehk8ZyKb9yA"
   },
   "execution_count": null,
   "outputs": []
  },
  {
   "cell_type": "code",
   "source": [
    "model = ClassificationModel((96, 32), 1536, (512, 128), 3)"
   ],
   "metadata": {
    "id": "tXDn_MFac4K8"
   },
   "execution_count": null,
   "outputs": []
  },
  {
   "cell_type": "code",
   "source": [
    "out = model(sample[0])\n",
    "type(out)"
   ],
   "metadata": {
    "colab": {
     "base_uri": "https://localhost:8080/"
    },
    "id": "lWOUmpnMebqu",
    "outputId": "8bec0166-8838-4110-d886-87c105249c33"
   },
   "execution_count": null,
   "outputs": [
    {
     "output_type": "execute_result",
     "data": {
      "text/plain": [
       "list"
      ]
     },
     "metadata": {},
     "execution_count": 139
    }
   ]
  },
  {
   "cell_type": "code",
   "source": [
    "out[:2]"
   ],
   "metadata": {
    "colab": {
     "base_uri": "https://localhost:8080/"
    },
    "id": "HM1tQocXYQTt",
    "outputId": "308d5d1d-2fdf-486e-cd70-d0e14a1bacc4"
   },
   "execution_count": null,
   "outputs": [
    {
     "output_type": "execute_result",
     "data": {
      "text/plain": [
       "[[tensor([[-0.1973, -0.1845]], grad_fn=<AddmmBackward0>),\n",
       "  tensor([[ 1.1995, -0.5268]], grad_fn=<AddmmBackward0>),\n",
       "  tensor([[ 0.2240, -0.3425]], grad_fn=<AddmmBackward0>)],\n",
       " [tensor([[-0.1803, -0.3481]], grad_fn=<AddmmBackward0>),\n",
       "  tensor([[ 1.2434, -0.6004]], grad_fn=<AddmmBackward0>),\n",
       "  tensor([[ 0.5280, -0.6110]], grad_fn=<AddmmBackward0>)]]"
      ]
     },
     "metadata": {},
     "execution_count": 140
    }
   ]
  },
  {
   "cell_type": "code",
   "source": [
    "sample[1][:2]"
   ],
   "metadata": {
    "colab": {
     "base_uri": "https://localhost:8080/"
    },
    "id": "Tm3RgHABYuYP",
    "outputId": "bde9ccd9-56b7-4c4b-d259-f7a96c0ebff1"
   },
   "execution_count": null,
   "outputs": [
    {
     "output_type": "execute_result",
     "data": {
      "text/plain": [
       "[[tensor([1]), tensor([1]), tensor([-1])],\n",
       " [tensor([0]), tensor([1]), tensor([1])]]"
      ]
     },
     "metadata": {},
     "execution_count": 141
    }
   ]
  },
  {
   "cell_type": "code",
   "source": [
    "a = []\n",
    "for o in out[:2]:\n",
    "    a += o\n",
    "a"
   ],
   "metadata": {
    "colab": {
     "base_uri": "https://localhost:8080/"
    },
    "id": "z3P1BqirbLwt",
    "outputId": "4e757b8a-9959-4602-e859-1c01afae6098"
   },
   "execution_count": null,
   "outputs": [
    {
     "output_type": "execute_result",
     "data": {
      "text/plain": [
       "[tensor([[-0.1973, -0.1845]], grad_fn=<AddmmBackward0>),\n",
       " tensor([[ 1.1995, -0.5268]], grad_fn=<AddmmBackward0>),\n",
       " tensor([[ 0.2240, -0.3425]], grad_fn=<AddmmBackward0>),\n",
       " tensor([[-0.1803, -0.3481]], grad_fn=<AddmmBackward0>),\n",
       " tensor([[ 1.2434, -0.6004]], grad_fn=<AddmmBackward0>),\n",
       " tensor([[ 0.5280, -0.6110]], grad_fn=<AddmmBackward0>)]"
      ]
     },
     "metadata": {},
     "execution_count": 142
    }
   ]
  },
  {
   "cell_type": "code",
   "source": [
    "torch.cat(a)"
   ],
   "metadata": {
    "colab": {
     "base_uri": "https://localhost:8080/"
    },
    "id": "8_QmSExCZMza",
    "outputId": "4e5c7a1e-528f-4900-85a1-2dd6c90562bc"
   },
   "execution_count": null,
   "outputs": [
    {
     "output_type": "execute_result",
     "data": {
      "text/plain": [
       "tensor([[-0.1973, -0.1845],\n",
       "        [ 1.1995, -0.5268],\n",
       "        [ 0.2240, -0.3425],\n",
       "        [-0.1803, -0.3481],\n",
       "        [ 1.2434, -0.6004],\n",
       "        [ 0.5280, -0.6110]], grad_fn=<CatBackward0>)"
      ]
     },
     "metadata": {},
     "execution_count": 143
    }
   ]
  },
  {
   "cell_type": "code",
   "source": [
    "label = torch.LongTensor(sample[1])\n",
    "label"
   ],
   "metadata": {
    "colab": {
     "base_uri": "https://localhost:8080/"
    },
    "id": "HVemQDCRg8sA",
    "outputId": "f6ca4eaa-10d7-4084-b308-e20269846a9e"
   },
   "execution_count": null,
   "outputs": [
    {
     "output_type": "execute_result",
     "data": {
      "text/plain": [
       "tensor([[ 1,  1, -1],\n",
       "        [ 0,  1,  1],\n",
       "        [ 0,  1,  1],\n",
       "        [ 1,  1,  1],\n",
       "        [ 1,  1,  1],\n",
       "        [ 0,  0, -1],\n",
       "        [ 1,  0,  1],\n",
       "        [ 1,  1, -1],\n",
       "        [ 1,  1, -1],\n",
       "        [ 0,  0,  1],\n",
       "        [ 1,  1, -1]])"
      ]
     },
     "metadata": {},
     "execution_count": 144
    }
   ]
  },
  {
   "cell_type": "code",
   "source": [
    "sample[1]"
   ],
   "metadata": {
    "colab": {
     "base_uri": "https://localhost:8080/"
    },
    "id": "kC0OXNXNfAVf",
    "outputId": "e75b3e47-d8c5-455a-b582-90ce11599e7d"
   },
   "execution_count": null,
   "outputs": [
    {
     "output_type": "execute_result",
     "data": {
      "text/plain": [
       "[[tensor([1]), tensor([1]), tensor([-1])],\n",
       " [tensor([0]), tensor([1]), tensor([1])],\n",
       " [tensor([0]), tensor([1]), tensor([1])],\n",
       " [tensor([1]), tensor([1]), tensor([1])],\n",
       " [tensor([1]), tensor([1]), tensor([1])],\n",
       " [tensor([0]), tensor([0]), tensor([-1])],\n",
       " [tensor([1]), tensor([0]), tensor([1])],\n",
       " [tensor([1]), tensor([1]), tensor([-1])],\n",
       " [tensor([1]), tensor([1]), tensor([-1])],\n",
       " [tensor([0]), tensor([0]), tensor([1])],\n",
       " [tensor([1]), tensor([1]), tensor([-1])]]"
      ]
     },
     "metadata": {},
     "execution_count": 145
    }
   ]
  },
  {
   "cell_type": "code",
   "source": [
    "torch.LongTensor(sample[1])"
   ],
   "metadata": {
    "colab": {
     "base_uri": "https://localhost:8080/"
    },
    "id": "czBVF41ffuqb",
    "outputId": "883e9598-fd3e-49c8-8927-295ccd534166"
   },
   "execution_count": null,
   "outputs": [
    {
     "output_type": "execute_result",
     "data": {
      "text/plain": [
       "tensor([[ 1,  1, -1],\n",
       "        [ 0,  1,  1],\n",
       "        [ 0,  1,  1],\n",
       "        [ 1,  1,  1],\n",
       "        [ 1,  1,  1],\n",
       "        [ 0,  0, -1],\n",
       "        [ 1,  0,  1],\n",
       "        [ 1,  1, -1],\n",
       "        [ 1,  1, -1],\n",
       "        [ 0,  0,  1],\n",
       "        [ 1,  1, -1]])"
      ]
     },
     "metadata": {},
     "execution_count": 146
    }
   ]
  },
  {
   "cell_type": "markdown",
   "source": [
    "# Training"
   ],
   "metadata": {
    "id": "JoOtFRPmYjOy"
   }
  },
  {
   "cell_type": "code",
   "source": [
    "def loss_fn(preds, labels, device):\n",
    "\n",
    "    batch_preds = []\n",
    "    batch_labels = []\n",
    "\n",
    "    for pred, label in zip(preds, labels):\n",
    "\n",
    "        if label[-1].item() == -1:\n",
    "            pred = pred[:-1]\n",
    "            label = label[:-1]\n",
    "\n",
    "        batch_preds += pred\n",
    "        batch_labels += label\n",
    "\n",
    "    batch_preds = torch.cat(batch_preds).to(device)\n",
    "    batch_labels = torch.cat(batch_labels).to(device)\n",
    "\n",
    "    loss = F.cross_entropy(batch_preds, batch_labels)\n",
    "\n",
    "    return loss"
   ],
   "metadata": {
    "id": "kxUk2BsxYnXi"
   },
   "execution_count": null,
   "outputs": []
  },
  {
   "cell_type": "code",
   "source": [
    "def train_classifier(model, dataloader, optimizer, epochs, device, save_dir):\n",
    "\n",
    "    len_dataloader = len(dataloader)\n",
    "\n",
    "    model = model.to(device)\n",
    "    model.train()\n",
    "\n",
    "    epoch_losses = []\n",
    "    iter_losses = []\n",
    "\n",
    "    for epoch in range(epochs):\n",
    "\n",
    "        epoch_loss = 0\n",
    "\n",
    "        for i, (data, labels) in enumerate(dataloader):\n",
    "\n",
    "            optimizer.zero_grad()\n",
    "\n",
    "            data = [d.to(device) for d in data]\n",
    "            # labels = torch.LongTensor(labels).to(device)\n",
    "            # data, labels = data.to(device), labels.to(device)\n",
    "\n",
    "            preds = model(data)\n",
    "\n",
    "            loss = loss_fn(preds, labels, device)\n",
    "            loss.backward()\n",
    "            optimizer.step()\n",
    "\n",
    "            epoch_loss += loss.item()\n",
    "\n",
    "            if (i + 1) % 50 == 0:\n",
    "                print(\n",
    "                    f\"Iteration {(epoch*len_dataloader) + i + 1}: Loss = {loss.item()}\"\n",
    "                )\n",
    "                iter_losses.append(loss.item())\n",
    "\n",
    "            if ((epoch * len_dataloader) + i + 1) % 1000 == 0:\n",
    "                print(f\"Saving iteration {(epoch*len_dataloader) + i + 1} checkpoint\")\n",
    "                torch.save(\n",
    "                    model.state_dict(),\n",
    "                    join(\n",
    "                        save_dir,\n",
    "                        \"iter\" + str((epoch * len_dataloader) + i + 1) + \"_model.pth\",\n",
    "                    ),\n",
    "                )\n",
    "\n",
    "        epoch_losses.append(epoch_loss)\n",
    "\n",
    "    torch.save(model.state_dict(), join(save_dir, \"final_model.pth\"))\n",
    "\n",
    "    fig, axs = plt.subplots(1, 2, figsize=(14, 8))\n",
    "    axs[0].plot(iter_losses)\n",
    "    axs[0].set_title(\"Iteration losses\")\n",
    "    axs[1].plot(epoch_losses)\n",
    "    axs[1].set_title(\"Epoch losses\")\n",
    "    fig.savefig(join(save_dir, \"training_loss_curves.png\"))"
   ],
   "metadata": {
    "id": "eQMP-oxmpi-e"
   },
   "execution_count": null,
   "outputs": []
  },
  {
   "cell_type": "code",
   "source": [
    "train_dataset = JSLDataset(\"images\", \"annotations_50.txt\")\n",
    "trainloader = DataLoader(train_dataset, batch_size=1)"
   ],
   "metadata": {
    "id": "ggvEiW-DmJYC"
   },
   "execution_count": null,
   "outputs": []
  },
  {
   "cell_type": "code",
   "source": [
    "device = torch.device(\"cuda\" if torch.cuda.is_available() else \"cpu\")\n",
    "print(device)\n",
    "\n",
    "model = ClassificationModel((96, 32), 1536, (512, 128), 3)\n",
    "model = model.to(device)"
   ],
   "metadata": {
    "colab": {
     "base_uri": "https://localhost:8080/"
    },
    "id": "GJGfR5RTk8tf",
    "outputId": "2890ec25-d01c-483d-8419-df581bf0655d"
   },
   "execution_count": null,
   "outputs": [
    {
     "output_type": "stream",
     "name": "stdout",
     "text": [
      "cuda\n"
     ]
    }
   ]
  },
  {
   "cell_type": "code",
   "source": [
    "optimizer = torch.optim.SGD(model.parameters(), lr=0.001, momentum=0.9)"
   ],
   "metadata": {
    "id": "jbbp3vgCk_Mn"
   },
   "execution_count": null,
   "outputs": []
  },
  {
   "cell_type": "code",
   "source": [
    "epochs = 100\n",
    "train_classifier(\n",
    "    model,\n",
    "    trainloader,\n",
    "    optimizer,\n",
    "    epochs,\n",
    "    device,\n",
    "    \"/content/drive/MyDrive/projects/frinks/ppe/model_weights/run2\",\n",
    ")"
   ],
   "metadata": {
    "colab": {
     "base_uri": "https://localhost:8080/",
     "height": 1000
    },
    "id": "kf8XrJahpk8X",
    "outputId": "6f7e9103-39c9-4fe4-8635-8dca9504f902"
   },
   "execution_count": null,
   "outputs": [
    {
     "output_type": "stream",
     "name": "stdout",
     "text": [
      "Iteration 50: Loss = 0.4876328408718109\n",
      "Iteration 100: Loss = 0.48604169487953186\n",
      "Iteration 150: Loss = 0.5123975872993469\n",
      "Iteration 200: Loss = 0.6184850335121155\n",
      "Iteration 250: Loss = 0.6401607394218445\n",
      "Iteration 300: Loss = 0.6484501361846924\n",
      "Iteration 350: Loss = 0.6442272067070007\n",
      "Iteration 400: Loss = 0.5547769069671631\n",
      "Iteration 450: Loss = 0.43408074975013733\n",
      "Iteration 500: Loss = 0.48163142800331116\n",
      "Iteration 550: Loss = 0.44138434529304504\n",
      "Iteration 600: Loss = 0.512237548828125\n",
      "Iteration 650: Loss = 0.5152345299720764\n",
      "Iteration 700: Loss = 0.5318120121955872\n",
      "Iteration 750: Loss = 0.5684916377067566\n",
      "Iteration 800: Loss = 0.5353417992591858\n",
      "Iteration 850: Loss = 0.5860008597373962\n",
      "Iteration 900: Loss = 0.4760410785675049\n",
      "Iteration 950: Loss = 0.6554457545280457\n",
      "Iteration 1000: Loss = 0.4056967496871948\n",
      "Saving iteration 1000 checkpoint\n",
      "Iteration 1050: Loss = 0.7038183212280273\n",
      "Iteration 1100: Loss = 0.4461272954940796\n",
      "Iteration 1150: Loss = 0.3403204381465912\n",
      "Iteration 1200: Loss = 0.38252273201942444\n",
      "Iteration 1250: Loss = 0.33758270740509033\n",
      "Iteration 1300: Loss = 0.3912249505519867\n",
      "Iteration 1350: Loss = 0.24301208555698395\n",
      "Iteration 1400: Loss = 0.18421946465969086\n",
      "Iteration 1450: Loss = 0.19255630671977997\n",
      "Iteration 1500: Loss = 0.26470765471458435\n",
      "Iteration 1550: Loss = 0.2566301226615906\n",
      "Iteration 1600: Loss = 0.0786711573600769\n",
      "Iteration 1650: Loss = 0.1569780707359314\n",
      "Iteration 1700: Loss = 0.07208079099655151\n",
      "Iteration 1750: Loss = 0.12421093136072159\n",
      "Iteration 1800: Loss = 0.04285760596394539\n",
      "Iteration 1850: Loss = 0.016008293256163597\n",
      "Iteration 1900: Loss = 0.21020133793354034\n",
      "Iteration 1950: Loss = 0.023393115028738976\n",
      "Iteration 2000: Loss = 0.0246327742934227\n",
      "Saving iteration 2000 checkpoint\n",
      "Iteration 2050: Loss = 0.018822986632585526\n",
      "Iteration 2100: Loss = 0.027591930702328682\n",
      "Iteration 2150: Loss = 0.5423949360847473\n",
      "Iteration 2200: Loss = 0.11506303399801254\n",
      "Iteration 2250: Loss = 0.0030361448880285025\n",
      "Iteration 2300: Loss = 0.011799011379480362\n",
      "Iteration 2350: Loss = 0.06986521929502487\n",
      "Iteration 2400: Loss = 0.0005029121530242264\n",
      "Iteration 2450: Loss = 0.028071166947484016\n",
      "Iteration 2500: Loss = 0.04037684574723244\n",
      "Iteration 2550: Loss = 0.0034392019733786583\n",
      "Iteration 2600: Loss = 0.0019320970168337226\n",
      "Iteration 2650: Loss = 0.1377105414867401\n",
      "Iteration 2700: Loss = 0.004516733810305595\n",
      "Iteration 2750: Loss = 0.0011204638285562396\n",
      "Iteration 2800: Loss = 1.0335264205932617\n",
      "Iteration 2850: Loss = 0.011067350395023823\n",
      "Iteration 2900: Loss = 0.020335135981440544\n",
      "Iteration 2950: Loss = 0.0011310569243505597\n",
      "Iteration 3000: Loss = 0.00039500321145169437\n",
      "Saving iteration 3000 checkpoint\n",
      "Iteration 3050: Loss = 0.005753319710493088\n",
      "Iteration 3100: Loss = 0.0006194854504428804\n",
      "Iteration 3150: Loss = 0.0046683261170983315\n",
      "Iteration 3200: Loss = 0.0017660195007920265\n",
      "Iteration 3250: Loss = 0.0030244968365877867\n",
      "Iteration 3300: Loss = 0.000403908226871863\n",
      "Iteration 3350: Loss = 0.0001574942289153114\n",
      "Iteration 3400: Loss = 9.830406634137034e-05\n",
      "Iteration 3450: Loss = 7.527593697886914e-05\n",
      "Iteration 3500: Loss = 6.147195381345227e-05\n",
      "Iteration 3550: Loss = 5.171936936676502e-05\n",
      "Iteration 3600: Loss = 4.4628133764490485e-05\n",
      "Iteration 3650: Loss = 3.9274829759960994e-05\n",
      "Iteration 3700: Loss = 3.50238879036624e-05\n",
      "Iteration 3750: Loss = 3.1676718208473176e-05\n",
      "Iteration 3800: Loss = 2.8667194783338346e-05\n",
      "Iteration 3850: Loss = 2.633306030475069e-05\n",
      "Iteration 3900: Loss = 2.4177677914849482e-05\n",
      "Iteration 3950: Loss = 2.243946073576808e-05\n",
      "Iteration 4000: Loss = 2.08402761927573e-05\n",
      "Saving iteration 4000 checkpoint\n",
      "Iteration 4050: Loss = 1.9479473849060014e-05\n",
      "Iteration 4100: Loss = 1.8198121324530803e-05\n",
      "Iteration 4150: Loss = 1.7165095414384268e-05\n",
      "Iteration 4200: Loss = 1.6161855455720797e-05\n",
      "Iteration 4250: Loss = 1.5327479559346102e-05\n",
      "Iteration 4300: Loss = 1.4512962479784619e-05\n",
      "Iteration 4350: Loss = 1.3847441550751682e-05\n",
      "Iteration 4400: Loss = 1.314218116021948e-05\n",
      "Iteration 4450: Loss = 1.255612096429104e-05\n",
      "Iteration 4500: Loss = 1.1979991541011259e-05\n",
      "Iteration 4550: Loss = 1.1513128811202478e-05\n",
      "Iteration 4600: Loss = 1.0986659617628902e-05\n",
      "Iteration 4650: Loss = 1.058932684827596e-05\n",
      "Iteration 4700: Loss = 1.0182057849306148e-05\n",
      "Iteration 4750: Loss = 9.804589353734627e-06\n",
      "Iteration 4800: Loss = 9.417184628546238e-06\n",
      "Iteration 4850: Loss = 9.12911582418019e-06\n",
      "Iteration 4900: Loss = 8.801312105788384e-06\n",
      "Iteration 4950: Loss = 8.523174983565696e-06\n",
      "Iteration 5000: Loss = 8.25497045298107e-06\n",
      "Saving iteration 5000 checkpoint\n"
     ]
    },
    {
     "output_type": "display_data",
     "data": {
      "text/plain": [
       "<Figure size 1008x576 with 2 Axes>"
      ],
      "image/png": "[encoded data removed]"
     },
     "metadata": {
      "needs_background": "light"
     }
    }
   ]
  },
  {
   "cell_type": "markdown",
   "source": [
    "# Evaluation"
   ],
   "metadata": {
    "id": "noBmLUH0zu0O"
   }
  },
  {
   "cell_type": "code",
   "source": [
    "def eval(model, testloader, device, task_id=0):\n",
    "\n",
    "    n_total = 0\n",
    "    n_correct = 0\n",
    "\n",
    "    p = []\n",
    "    l = []\n",
    "\n",
    "    for data, labels in testloader:\n",
    "\n",
    "        data = [d.to(device) for d in data]\n",
    "        labels = [label[task_id] for label in labels]\n",
    "        labels = torch.LongTensor(labels).to(device)\n",
    "\n",
    "        preds = model(data)\n",
    "        preds = [pred[task_id] for pred in preds]\n",
    "\n",
    "        preds = torch.cat(preds)\n",
    "        preds = F.softmax(preds, dim=1)\n",
    "        preds = torch.argmax(preds, dim=1)\n",
    "\n",
    "        p += list(preds)\n",
    "        l += list(labels)\n",
    "\n",
    "        n_correct += torch.sum(torch.eq(preds, labels))\n",
    "        n_total += len(labels)\n",
    "\n",
    "    accuracy = (n_correct / n_total) * 100\n",
    "    print(f\"Accuracy: {accuracy}%\")\n",
    "\n",
    "    p = [i.cpu().item() for i in p]\n",
    "    l = [i.cpu().item() for i in l]\n",
    "\n",
    "    return accuracy.item(), p, l"
   ],
   "metadata": {
    "id": "PUZssVnRROky"
   },
   "execution_count": null,
   "outputs": []
  },
  {
   "cell_type": "code",
   "source": [
    "test_dataset = JSLDataset(\"images\", \"annotations_50.txt\")\n",
    "testloader = DataLoader(test_dataset, batch_size=1)\n",
    "len(test_dataset), len(testloader)"
   ],
   "metadata": {
    "colab": {
     "base_uri": "https://localhost:8080/"
    },
    "id": "UdQ0uqfbzuXl",
    "outputId": "a8994798-bc17-463f-f8b3-7ec0efa51114"
   },
   "execution_count": null,
   "outputs": [
    {
     "output_type": "execute_result",
     "data": {
      "text/plain": [
       "(50, 50)"
      ]
     },
     "metadata": {},
     "execution_count": 12
    }
   ]
  },
  {
   "cell_type": "code",
   "source": [
    "device = torch.device(\"cuda\" if torch.cuda.is_available() else \"cpu\")\n",
    "print(device)\n",
    "\n",
    "model = ClassificationModel((96, 32), 1536, (512, 128), 3)\n",
    "model.load_state_dict(\n",
    "    torch.load(\n",
    "        \"/content/drive/MyDrive/projects/frinks/ppe/model_weights/run2/final_model.pth\",\n",
    "        map_location=\"cpu\",\n",
    "    )\n",
    ")\n",
    "model.eval()\n",
    "model = model.to(device)"
   ],
   "metadata": {
    "colab": {
     "base_uri": "https://localhost:8080/"
    },
    "id": "toO0Ug5fz04f",
    "outputId": "ca2a4ad1-512c-416c-ca96-381585f93a30"
   },
   "execution_count": null,
   "outputs": [
    {
     "output_type": "stream",
     "name": "stdout",
     "text": [
      "cuda\n"
     ]
    }
   ]
  },
  {
   "cell_type": "code",
   "source": [
    "acc, preds, labels = eval(model, testloader, device, task_id=0)"
   ],
   "metadata": {
    "colab": {
     "base_uri": "https://localhost:8080/"
    },
    "id": "Z7mobVGj1xFN",
    "outputId": "5f8cb44e-c56f-4dc1-940c-9990a9a8993d"
   },
   "execution_count": null,
   "outputs": [
    {
     "output_type": "stream",
     "name": "stdout",
     "text": [
      "Accuracy: 100.0%\n"
     ]
    }
   ]
  },
  {
   "cell_type": "code",
   "source": [
    "from sklearn.metrics import accuracy_score, confusion_matrix"
   ],
   "metadata": {
    "id": "22FqEG2sU2m7"
   },
   "execution_count": null,
   "outputs": []
  },
  {
   "cell_type": "code",
   "source": [
    "accuracy_score(preds, labels)"
   ],
   "metadata": {
    "colab": {
     "base_uri": "https://localhost:8080/"
    },
    "id": "2ObOkwXEVU_6",
    "outputId": "aa3be118-ab10-4911-9a00-010b620a2967"
   },
   "execution_count": null,
   "outputs": [
    {
     "output_type": "execute_result",
     "data": {
      "text/plain": [
       "1.0"
      ]
     },
     "metadata": {},
     "execution_count": 16
    }
   ]
  },
  {
   "cell_type": "code",
   "source": [
    "confusion_matrix(preds, labels)"
   ],
   "metadata": {
    "colab": {
     "base_uri": "https://localhost:8080/"
    },
    "id": "lS4XbCf1VX2U",
    "outputId": "bb63a393-7f84-43b3-e12e-287f5eff5c0e"
   },
   "execution_count": null,
   "outputs": [
    {
     "output_type": "execute_result",
     "data": {
      "text/plain": [
       "array([[ 63,   0],\n",
       "       [  0, 173]])"
      ]
     },
     "metadata": {},
     "execution_count": 17
    }
   ]
  },
  {
   "cell_type": "code",
   "source": [
    "sample = next(iter(testloader))"
   ],
   "metadata": {
    "id": "s5sOKpTsbWZE"
   },
   "execution_count": null,
   "outputs": []
  },
  {
   "cell_type": "code",
   "source": [
    "crop = sample[0][1].squeeze(0).permute(1, 2, 0).long().numpy()\n",
    "crop_label = sample[1][1]\n",
    "plt.imshow(crop)\n",
    "print(f\"Label: {crop_label}\")"
   ],
   "metadata": {
    "colab": {
     "base_uri": "https://localhost:8080/",
     "height": 286
    },
    "id": "4Bfm5C5ObPPS",
    "outputId": "3a09f0ee-080f-4726-daa1-e9b8a99f8183"
   },
   "execution_count": null,
   "outputs": [
    {
     "output_type": "stream",
     "name": "stdout",
     "text": [
      "Label: [tensor([0]), tensor([1]), tensor([1])]\n"
     ]
    },
    {
     "output_type": "display_data",
     "data": {
      "text/plain": [
       "<Figure size 432x288 with 1 Axes>"
      ],
      "image/png": "[encoded data removed]"
     },
     "metadata": {
      "needs_background": "light"
     }
    }
   ]
  },
  {
   "cell_type": "code",
   "source": [
    "data = sample[0]\n",
    "data = [d.to(device) for d in data]\n",
    "pred = model(data)\n",
    "torch.argmax(F.softmax(torch.cat(pred[1]), dim=1), dim=1)"
   ],
   "metadata": {
    "colab": {
     "base_uri": "https://localhost:8080/"
    },
    "id": "2qyirEbgb4zj",
    "outputId": "3537a68e-aaa9-4afb-fe2c-a62f0f7125c5"
   },
   "execution_count": null,
   "outputs": [
    {
     "output_type": "execute_result",
     "data": {
      "text/plain": [
       "tensor([0, 1, 1], device='cuda:0')"
      ]
     },
     "metadata": {},
     "execution_count": 33
    }
   ]
  },
  {
   "cell_type": "code",
   "source": [
    ""
   ],
   "metadata": {
    "id": "X8wfVyyfcu4T"
   },
   "execution_count": null,
   "outputs": []
  }
 ]
}